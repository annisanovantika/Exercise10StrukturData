{
  "nbformat": 4,
  "nbformat_minor": 0,
  "metadata": {
    "colab": {
      "provenance": [],
      "authorship_tag": "ABX9TyMj4JiwrPNTdrJNgpExSiq7",
      "include_colab_link": true
    },
    "kernelspec": {
      "name": "python3",
      "display_name": "Python 3"
    },
    "language_info": {
      "name": "python"
    }
  },
  "cells": [
    {
      "cell_type": "markdown",
      "metadata": {
        "id": "view-in-github",
        "colab_type": "text"
      },
      "source": [
        "<a href=\"https://colab.research.google.com/github/annisanovantika/Exercise10StrukturData/blob/main/Annisa_Novantika_121450005_Exercise_10.ipynb\" target=\"_parent\"><img src=\"https://colab.research.google.com/assets/colab-badge.svg\" alt=\"Open In Colab\"/></a>"
      ]
    },
    {
      "cell_type": "markdown",
      "source": [
        "# **Programming Exercise**\n"
      ],
      "metadata": {
        "id": "Eac2GbrgprCX"
      }
    },
    {
      "cell_type": "markdown",
      "source": [
        "1. Buatlah struktur data Stack menggunakan tuple sebagai adaptee nya dengan adapter design pattern!\n",
        "\n"
      ],
      "metadata": {
        "id": "6FPpjYnQpw-q"
      }
    },
    {
      "cell_type": "code",
      "execution_count": null,
      "metadata": {
        "colab": {
          "base_uri": "https://localhost:8080/"
        },
        "id": "P6Tg5nY4peMN",
        "outputId": "eab8ea8c-bdf8-45c0-d03b-ea78e6906d50"
      },
      "outputs": [
        {
          "output_type": "execute_result",
          "data": {
            "text/plain": [
              "(5,)"
            ]
          },
          "metadata": {},
          "execution_count": 1
        }
      ],
      "source": [
        "class Stack:\n",
        "    def __init__(self):\n",
        "        self._data = ()\n",
        "    def __len__(self):\n",
        "        return len(self._data)\n",
        "    def isEmpty(self):\n",
        "        return len(self._data) == 0\n",
        "    def push(self,e):\n",
        "        conv_list = list(self._data)\n",
        "        conv_list.append(e)\n",
        "        conv_tuple = tuple(conv_list)\n",
        "        return conv_tuple\n",
        "    def top(self):\n",
        "        return self._data[-1]\n",
        "    def pop(self):\n",
        "        conv_list = list(self._data)\n",
        "        conv_list.pop\n",
        "        conv_tuple = tuple(conv_list)\n",
        "        return self._data.pop()\n",
        "\n",
        "tes = Stack()\n",
        "tes.push(5)"
      ]
    },
    {
      "cell_type": "markdown",
      "source": [
        "2. Buatlah sebuah program yang mengimplementasikan stack berbasis list untuk membalikan urutan teks dengan input sebuah file .txt!"
      ],
      "metadata": {
        "id": "LMzDBxMKqx2d"
      }
    },
    {
      "cell_type": "code",
      "source": [
        "f1 = open(\"output1.txt\", \"w\")\n",
        "\n",
        "with open(\"file.txt\", \"r\") as myfile:\n",
        "\tdata = myfile.read()\n",
        "\n",
        "data_1 = data[::-1]\n",
        "\n",
        "f1.write(data_1)\n",
        "\n",
        "f1.close()"
      ],
      "metadata": {
        "colab": {
          "base_uri": "https://localhost:8080/",
          "height": 235
        },
        "id": "Ye996IOdqzfl",
        "outputId": "5496488a-5554-4aaf-d90a-662e826daf04"
      },
      "execution_count": null,
      "outputs": [
        {
          "output_type": "error",
          "ename": "FileNotFoundError",
          "evalue": "ignored",
          "traceback": [
            "\u001b[0;31m---------------------------------------------------------------------------\u001b[0m",
            "\u001b[0;31mFileNotFoundError\u001b[0m                         Traceback (most recent call last)",
            "\u001b[0;32m<ipython-input-2-7eb57fb0e8f6>\u001b[0m in \u001b[0;36m<module>\u001b[0;34m\u001b[0m\n\u001b[1;32m      1\u001b[0m \u001b[0mf1\u001b[0m \u001b[0;34m=\u001b[0m \u001b[0mopen\u001b[0m\u001b[0;34m(\u001b[0m\u001b[0;34m\"output1.txt\"\u001b[0m\u001b[0;34m,\u001b[0m \u001b[0;34m\"w\"\u001b[0m\u001b[0;34m)\u001b[0m\u001b[0;34m\u001b[0m\u001b[0;34m\u001b[0m\u001b[0m\n\u001b[1;32m      2\u001b[0m \u001b[0;34m\u001b[0m\u001b[0m\n\u001b[0;32m----> 3\u001b[0;31m \u001b[0;32mwith\u001b[0m \u001b[0mopen\u001b[0m\u001b[0;34m(\u001b[0m\u001b[0;34m\"file.txt\"\u001b[0m\u001b[0;34m,\u001b[0m \u001b[0;34m\"r\"\u001b[0m\u001b[0;34m)\u001b[0m \u001b[0;32mas\u001b[0m \u001b[0mmyfile\u001b[0m\u001b[0;34m:\u001b[0m\u001b[0;34m\u001b[0m\u001b[0;34m\u001b[0m\u001b[0m\n\u001b[0m\u001b[1;32m      4\u001b[0m         \u001b[0mdata\u001b[0m \u001b[0;34m=\u001b[0m \u001b[0mmyfile\u001b[0m\u001b[0;34m.\u001b[0m\u001b[0mread\u001b[0m\u001b[0;34m(\u001b[0m\u001b[0;34m)\u001b[0m\u001b[0;34m\u001b[0m\u001b[0;34m\u001b[0m\u001b[0m\n\u001b[1;32m      5\u001b[0m \u001b[0;34m\u001b[0m\u001b[0m\n",
            "\u001b[0;31mFileNotFoundError\u001b[0m: [Errno 2] No such file or directory: 'file.txt'"
          ]
        }
      ]
    },
    {
      "cell_type": "markdown",
      "source": [
        "3. Buatlah ADT untuk Queue dan Deque menggunakan adapter design pattern!"
      ],
      "metadata": {
        "id": "o6nqZEk6q7z6"
      }
    },
    {
      "cell_type": "code",
      "source": [
        "class Queue:\n",
        "    def __init__(self):\n",
        "        self._data = []\n",
        "        self._size = 0\n",
        "  \n",
        "    def __len__(self):\n",
        "        return self._size\n",
        "\n",
        "    def isempty(self):\n",
        "        return len(self._data) == 0\n",
        "  \n",
        "    @property\n",
        "    def view(self):\n",
        "        return self._data\n",
        " \n",
        "    def first(self):\n",
        "        return self._data[0]\n",
        "  \n",
        "    def last(self):\n",
        "        return self._data[-1]\n",
        "  \n",
        "    def enqueue(self,item):\n",
        "        self._data.append(item)\n",
        "        self._size += 1\n",
        "\n",
        "    def dequeue(self):\n",
        "        if self.isempty():\n",
        "            raise Exception('Stack kosong')\n",
        "        else:\n",
        "            self._size -= 1\n",
        "            return self._data.pop(0)"
      ],
      "metadata": {
        "id": "9fSlND7_rAVX"
      },
      "execution_count": null,
      "outputs": []
    },
    {
      "cell_type": "code",
      "source": [
        "class Deque:\n",
        "  def __init__(self):\n",
        "    self._data = [None]*10\n",
        "    self._size = 0\n",
        "  \n",
        "  def __len__(self):\n",
        "    return self._size\n",
        "\n",
        "  def isempty(self):\n",
        "    return len(self._data) == 0\n",
        "  \n",
        "  @property\n",
        "  def view(self):\n",
        "    return self._data\n",
        " \n",
        "  def first(self):\n",
        "    return self._data[0]\n",
        "  \n",
        "  def last(self):\n",
        "    return self._data[-1]\n",
        "  \n",
        "  def add_first(self,item):\n",
        "    self._data.append(item)\n",
        "    self._data.insert(0,self._data.pop())\n",
        "    self._size += 1\n",
        "  \n",
        "  def add_last(self,item):\n",
        "    self._data.append(item)\n",
        "    self._size += 1\n",
        "\n",
        "  def delete_first(self):\n",
        "    if self.isempty():\n",
        "      raise Exception('Stack kosong')\n",
        "    else:\n",
        "      self._size -= 1\n",
        "      return self._data.pop(0)\n",
        "\n",
        "  def delete_last(self):\n",
        "    if self.isempty():\n",
        "      raise Exception('queue kosong')\n",
        "    else:\n",
        "      self._size -= 1\n",
        "      return self._data.pop()"
      ],
      "metadata": {
        "id": "za3ksBokrKFx"
      },
      "execution_count": null,
      "outputs": []
    },
    {
      "cell_type": "code",
      "source": [
        "D = Deque()\n",
        "\n",
        "D.add_first(1)\n",
        "D.add_first(2)\n",
        "D.add_first(3)\n",
        "D.view"
      ],
      "metadata": {
        "colab": {
          "base_uri": "https://localhost:8080/"
        },
        "id": "-alKH8wHrPXd",
        "outputId": "7e476c90-69a8-46e9-ea23-be1266d17891"
      },
      "execution_count": null,
      "outputs": [
        {
          "output_type": "execute_result",
          "data": {
            "text/plain": [
              "[3, 2, 1, None, None, None, None, None, None, None, None, None, None]"
            ]
          },
          "metadata": {},
          "execution_count": 5
        }
      ]
    },
    {
      "cell_type": "markdown",
      "source": [
        "4. Buatlah program untuk mengimplementasikan ADT tersebut menggunakan adapter design pattern!"
      ],
      "metadata": {
        "id": "d1QXvh0zreGu"
      }
    },
    {
      "cell_type": "code",
      "source": [
        "# Dog - Cycle\n",
        "# human - Truck\n",
        "# car - Car\n",
        " \n",
        "class MotorCycle:\n",
        " \n",
        "    \"\"\"Class for MotorCycle\"\"\"\n",
        " \n",
        "    def __init__(self):\n",
        "        self.name = \"MotorCycle\"\n",
        " \n",
        "    def TwoWheeler(self):\n",
        "        return \"TwoWheeler\"\n",
        " \n",
        " \n",
        "class Truck:\n",
        " \n",
        "    \"\"\"Class for Truck\"\"\"\n",
        " \n",
        "    def __init__(self):\n",
        "        self.name = \"Truck\"\n",
        " \n",
        "    def EightWheeler(self):\n",
        "        return \"EightWheeler\"\n",
        " \n",
        " \n",
        "class Car:\n",
        " \n",
        "    \"\"\"Class for Car\"\"\"\n",
        " \n",
        "    def __init__(self):\n",
        "        self.name = \"Car\"\n",
        " \n",
        "    def FourWheeler(self):\n",
        "        return \"FourWheeler\"\n",
        " \n",
        "class Adapter:\n",
        "    \"\"\"\n",
        "    Adapts an object by replacing methods.\n",
        "    Usage:\n",
        "    motorCycle = MotorCycle()\n",
        "    motorCycle = Adapter(motorCycle, wheels = motorCycle.TwoWheeler)\n",
        "    \"\"\"\n",
        " \n",
        "    def __init__(self, obj, **adapted_methods):\n",
        "        \"\"\"We set the adapted methods in the object's dict\"\"\"\n",
        "        self.obj = obj\n",
        "        self.__dict__.update(adapted_methods)\n",
        " \n",
        "    def __getattr__(self, attr):\n",
        "        \"\"\"All non-adapted calls are passed to the object\"\"\"\n",
        "        return getattr(self.obj, attr)\n",
        " \n",
        "    def original_dict(self):\n",
        "        \"\"\"Print original object dict\"\"\"\n",
        "        return self.obj.__dict__\n",
        " \n",
        " \n",
        "\"\"\" main method \"\"\"\n",
        "if __name__ == \"__main__\":\n",
        " \n",
        "    \"\"\"list to store objects\"\"\"\n",
        "    objects = []\n",
        " \n",
        "    motorCycle = MotorCycle()\n",
        "    objects.append(Adapter(motorCycle, wheels = motorCycle.TwoWheeler))\n",
        " \n",
        "    truck = Truck()\n",
        "    objects.append(Adapter(truck, wheels = truck.EightWheeler))\n",
        " \n",
        "    car = Car()\n",
        "    objects.append(Adapter(car, wheels = car.FourWheeler))\n",
        " \n",
        "    for obj in objects:\n",
        "       print(\"A {0} is a {1} vehicle\".format(obj.name, obj.wheels()))"
      ],
      "metadata": {
        "colab": {
          "base_uri": "https://localhost:8080/"
        },
        "id": "y22Q_q2WrgOC",
        "outputId": "38d56d2d-aa0c-4652-eb77-607330b43c40"
      },
      "execution_count": null,
      "outputs": [
        {
          "output_type": "stream",
          "name": "stdout",
          "text": [
            "A MotorCycle is a TwoWheeler vehicle\n",
            "A Truck is a EightWheeler vehicle\n",
            "A Car is a FourWheeler vehicle\n"
          ]
        }
      ]
    }
  ]
}