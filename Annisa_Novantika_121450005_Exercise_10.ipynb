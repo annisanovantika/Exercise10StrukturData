{
  "nbformat": 4,
  "nbformat_minor": 0,
  "metadata": {
    "colab": {
      "provenance": [],
      "authorship_tag": "ABX9TyOPvkCAYU5685jehv6lhfsa",
      "include_colab_link": true
    },
    "kernelspec": {
      "name": "python3",
      "display_name": "Python 3"
    },
    "language_info": {
      "name": "python"
    }
  },
  "cells": [
    {
      "cell_type": "markdown",
      "metadata": {
        "id": "view-in-github",
        "colab_type": "text"
      },
      "source": [
        "<a href=\"https://colab.research.google.com/github/annisanovantika/Exercise10StrukturData/blob/main/Annisa_Novantika_121450005_Exercise_10.ipynb\" target=\"_parent\"><img src=\"https://colab.research.google.com/assets/colab-badge.svg\" alt=\"Open In Colab\"/></a>"
      ]
    },
    {
      "cell_type": "markdown",
      "source": [
        "# **EXERCISE 10**\n",
        "Nama : Annisa Novantika\\\n",
        "NIM : 121450005\n"
      ],
      "metadata": {
        "id": "uZL4T8gdJP_i"
      }
    },
    {
      "cell_type": "markdown",
      "source": [
        "## **Abstract Data Type**\n",
        "1. Jelaskan apa yang dimaksud dengan Abstraction!\n",
        "2. Jelaskan apa yand dimaksud dengan Abstract Data Type!\n",
        "3. Jelaskan hal utama yang harus bisa dijawab ketika merancang ADT!\n",
        "4. Jelaskan perbedaan antara ADT dengan Data Structure!\n",
        "5. Rancanglah ADT untuk Stack!\n",
        "6. Jelaskan bagaimana cara untuk mengimplementasikan ADT!"
      ],
      "metadata": {
        "id": "dhPuK2OnJ3-M"
      }
    },
    {
      "cell_type": "markdown",
      "source": [
        "**Jawab :**\n",
        " 1. Abstraction dalam Paradigma OOP adalah konsep dimana kita dapat mengatur sebuah Kompleksitas dalam sebuah struktur code kita. Kompleksitas ini dapat diatur sehingga didapat detail yang tidak diperlukan dan menampilkan data relevan dengan apa yang dibutuhkan Abstraction berfungsi untuk mendeskripsikan variabel dan fungsi yang ada di dalam ADT\n",
        "\n",
        "2. Abstract Data Type adalah model matematika dari obyek data yang menyempurnakan tipe data dengan cara mengaitkannya dengan fungsi-fungsi yang beroperasi Pada data yang bersangkutan.\n",
        "\n",
        "3. Hal utama yang harus bisa dijawab adalah apakah nanti ADT bang dibuat akan mudah untuk dimengerti, sehingga programmer yang menggunakan ADT hanya perlu memahami operasinya bukan detail implementasi nya.\n",
        "\n",
        "4. Data Structure merupakan implementasi dari ADT. ADT membahas konsep atau metode apa yang akan digunakan sedangkan Data Structure membahas bagaimana data. tersebut di implementasikan.\n",
        "5. Rancangan AOT ada pada kode dibawah ini\n",
        "6. Ada berbagai cara untuk mengimplementasikan ADT, misalnya. List ADT dapat dimplementasikan menggunakan array, atau singly Linked list atau doubly linked List. Selain itu ada juga, stack ADT dan Queue AOT yang dapat diimplementasikan menggunakan array atau linked list.\n",
        "\n",
        "\n"
      ],
      "metadata": {
        "id": "Vc6oMTUnKFEV"
      }
    },
    {
      "cell_type": "code",
      "source": [
        "##Rancang ADT untuk stack\n",
        "\n",
        "class arraystack :\n",
        "  def__init__(self):\n",
        "    self._data = []\n",
        "  def__len__(self):\n",
        "    return len (self._data)=0\n",
        "  def push(self,e):\n",
        "     self._data.append(e)\n",
        "  def top(self) :\n",
        "    return self._data[-1]\n",
        "  def pop(self) :\n",
        "    return self._data.pop\n",
        "  \n"
      ],
      "metadata": {
        "id": "Autu2Cg2L7Oj"
      },
      "execution_count": null,
      "outputs": []
    },
    {
      "cell_type": "markdown",
      "source": [
        "## **Software Design Pattern**\n",
        "1. Jelaskan hubungan antara Design Pattern Software dengan ADT!\n",
        "2. Jelaskan apa yang dimaksud dengan Design Pattern!\n",
        "3. Jelaskan apa saja yang termasuk catalog good design pattern!\n",
        "4. Jelaskan 2 kriteria untuk klasifikasi design pattern!\n",
        "5. Jelaskan klasifikasi design pattern berdasarkan purpose nya!\n",
        "6. Jelaskan klasifikasi design pattern berdasarkan Scope nya!\n",
        "7. Gambarkan tabel klasifikasi design pattern berdasarkan scope dan purpose berdasarkan catalog good design pattern!\n",
        "\n",
        "**Jawab :**\n",
        "1. untuk mengimplementasikan ADT, kita memerlukan pemahaman tentang pola desain Perangkat lunak. Ada berbagai implementasi ADT tertentu. Tapi, kita bisa mengekstrak pola dari berbagai implementasi ini.\n",
        "\n",
        "2. Menurut Christoper Alexander, Design Pattern adalah pola yang menggambarkan masalah yang terjadi berulang kali di lingkungan kita, dan kemudian menjelaskan inti dari solusi untuk masalah itu. Sedemikian rupa sehingga anda dapat menggunakan solusi ini jutaan kali tanpa pernah melakukannya dengan cara yang sama dua kali.\n",
        "\n",
        "3. Abstract factory, adapter, bridge, builder, chain of responsibility, command, composite, Decorator, facade, factory method, Flyweight, Interpreter, Iterator, Mediator, Memento, Observer, prototype. Proxy, singleton, state, Strategy, Template method, visitor.\n",
        "\n",
        "4. -  Klasifikasi berdasarkan tujuan, berfokus pada proses Pengkreasian objek, komposit class atau objek dan karakteristik hubungan dengan distribusi respondnya.\n",
        "  - Klasifikasi berdasarkan ruang lingkup. melihat hubungan antara super-class dan sub-class dan kedinamisannya.\n",
        "\n",
        "5. Jelaskan klasifikasi design Pattern berdasarkan Purpose nya! \n",
        "1) Klasifikasi berdasarkan purpose.\n",
        "  - Creational menyangkut Proses Pembuatan objek.\n",
        "  - Struktural Komposisi kelas atau objek. \n",
        "  - Behavioral mencirikan cara kelas atau objek berinteraksi dan mendistribusikan tanggung ga\n",
        "\n",
        "6. Klasifikasi berdasarkan scope.\n",
        "\n",
        "  -  Pola kelas berurusan dengan hubungan antara kelas dan subkelasnya.\n",
        "\n",
        "  - Pola objek dengan hubungan objek, yang dapat diubah saat run-time dan lebih dinamis."
      ],
      "metadata": {
        "id": "bXxo19YhLQps"
      }
    },
    {
      "cell_type": "markdown",
      "source": [
        "## **Adapter Design Pattern**\n",
        "1. Jelaskan apa yang dimaksud dengan adapter design pattern!\n",
        "2. Jelaskan tujuan dari adapter design pattern!\n",
        "3. Jelaskan pada kondisi apa dan kapan menggunakan adapter design pattern!\n",
        "4. Jelaskan bagaimana cara menggunakan adapter design pattern untuk membuat Struktur Data Stack!\n",
        "\n",
        "**Jawab :**\n",
        "1. Adapter menerjemahkan antarmuka satu kelas untuk mencocokkan kelas yang lain.\n",
        "Adapter ini memungkinkan objek bang mengimplementasikan serangkaian fitur untuk digunakan dengan Perangkat lunak yang mengharapkan antarmuka yang berbeda. tanpa mengubah Kode untuk kelas ast.\n",
        "\n",
        "2. Tujuan dari adapter sendiri adalah mengubah antarmuka kelas menjadi antarmuka lain.\n",
        "\n",
        "3. Kita dapat menggunakan ADP pada disaat kondisi kita bekerja dengan dua sistem atau kelas atau antarmuka yang tidak kompatibel, Aop bisa sangat kuat untuk digunakan Pada Kondisi tersebut. Hal ini membuat Kode lebih sederhana dan Konsisten.\n",
        "\n",
        "4. Jelaskan bagaimana cara menggunakan adapter design pattern untuk membuat Struktur Data Stack!\n",
        "Cara umum menggunakan ADP untuk stack adalah mendefinisikan kelas baru yang mempunyai instansi dari kelas sebelumnya, dengan cara seperti ini kelas sebelumnya dapat dianggap seperti bidang tersembunyi... setelah itu kita mengimplementasikan setiap metode-metode di kelas baru ini dengan menggunakan metode metode dari kelas tersembunyi sebelumnya. Dengan Menggunakan cara ini, kita membuat suatu fungsi yang sama dengan kelat yang ada. dengan tambahan kelas tersebut dikemas ulang dengan cara yang lebih baik."
      ],
      "metadata": {
        "id": "cz-sq1egSPxf"
      }
    },
    {
      "cell_type": "markdown",
      "source": [
        "## **Programming Exercise**\n"
      ],
      "metadata": {
        "id": "Eac2GbrgprCX"
      }
    },
    {
      "cell_type": "markdown",
      "source": [
        "1. Buatlah struktur data Stack menggunakan tuple sebagai adaptee nya dengan adapter design pattern!\n",
        "\n"
      ],
      "metadata": {
        "id": "6FPpjYnQpw-q"
      }
    },
    {
      "cell_type": "code",
      "execution_count": null,
      "metadata": {
        "colab": {
          "base_uri": "https://localhost:8080/"
        },
        "id": "P6Tg5nY4peMN",
        "outputId": "eab8ea8c-bdf8-45c0-d03b-ea78e6906d50"
      },
      "outputs": [
        {
          "output_type": "execute_result",
          "data": {
            "text/plain": [
              "(5,)"
            ]
          },
          "metadata": {},
          "execution_count": 1
        }
      ],
      "source": [
        "class Stack:\n",
        "    def __init__(self):\n",
        "        self._data = ()\n",
        "    def __len__(self):\n",
        "        return len(self._data)\n",
        "    def isEmpty(self):\n",
        "        return len(self._data) == 0\n",
        "    def push(self,e):\n",
        "        conv_list = list(self._data)\n",
        "        conv_list.append(e)\n",
        "        conv_tuple = tuple(conv_list)\n",
        "        return conv_tuple\n",
        "    def top(self):\n",
        "        return self._data[-1]\n",
        "    def pop(self):\n",
        "        conv_list = list(self._data)\n",
        "        conv_list.pop\n",
        "        conv_tuple = tuple(conv_list)\n",
        "        return self._data.pop()\n",
        "\n",
        "tes = Stack()\n",
        "tes.push(5)"
      ]
    },
    {
      "cell_type": "markdown",
      "source": [
        "2. Buatlah sebuah program yang mengimplementasikan stack berbasis list untuk membalikan urutan teks dengan input sebuah file .txt!"
      ],
      "metadata": {
        "id": "LMzDBxMKqx2d"
      }
    },
    {
      "cell_type": "code",
      "source": [
        "f1 = open(\"output1.txt\", \"w\")\n",
        "\n",
        "with open(\"file.txt\", \"r\") as myfile:\n",
        "\tdata = myfile.read()\n",
        "\n",
        "data_1 = data[::-1]\n",
        "\n",
        "f1.write(data_1)\n",
        "\n",
        "f1.close()"
      ],
      "metadata": {
        "colab": {
          "base_uri": "https://localhost:8080/",
          "height": 235
        },
        "id": "Ye996IOdqzfl",
        "outputId": "5496488a-5554-4aaf-d90a-662e826daf04"
      },
      "execution_count": null,
      "outputs": [
        {
          "output_type": "error",
          "ename": "FileNotFoundError",
          "evalue": "ignored",
          "traceback": [
            "\u001b[0;31m---------------------------------------------------------------------------\u001b[0m",
            "\u001b[0;31mFileNotFoundError\u001b[0m                         Traceback (most recent call last)",
            "\u001b[0;32m<ipython-input-2-7eb57fb0e8f6>\u001b[0m in \u001b[0;36m<module>\u001b[0;34m\u001b[0m\n\u001b[1;32m      1\u001b[0m \u001b[0mf1\u001b[0m \u001b[0;34m=\u001b[0m \u001b[0mopen\u001b[0m\u001b[0;34m(\u001b[0m\u001b[0;34m\"output1.txt\"\u001b[0m\u001b[0;34m,\u001b[0m \u001b[0;34m\"w\"\u001b[0m\u001b[0;34m)\u001b[0m\u001b[0;34m\u001b[0m\u001b[0;34m\u001b[0m\u001b[0m\n\u001b[1;32m      2\u001b[0m \u001b[0;34m\u001b[0m\u001b[0m\n\u001b[0;32m----> 3\u001b[0;31m \u001b[0;32mwith\u001b[0m \u001b[0mopen\u001b[0m\u001b[0;34m(\u001b[0m\u001b[0;34m\"file.txt\"\u001b[0m\u001b[0;34m,\u001b[0m \u001b[0;34m\"r\"\u001b[0m\u001b[0;34m)\u001b[0m \u001b[0;32mas\u001b[0m \u001b[0mmyfile\u001b[0m\u001b[0;34m:\u001b[0m\u001b[0;34m\u001b[0m\u001b[0;34m\u001b[0m\u001b[0m\n\u001b[0m\u001b[1;32m      4\u001b[0m         \u001b[0mdata\u001b[0m \u001b[0;34m=\u001b[0m \u001b[0mmyfile\u001b[0m\u001b[0;34m.\u001b[0m\u001b[0mread\u001b[0m\u001b[0;34m(\u001b[0m\u001b[0;34m)\u001b[0m\u001b[0;34m\u001b[0m\u001b[0;34m\u001b[0m\u001b[0m\n\u001b[1;32m      5\u001b[0m \u001b[0;34m\u001b[0m\u001b[0m\n",
            "\u001b[0;31mFileNotFoundError\u001b[0m: [Errno 2] No such file or directory: 'file.txt'"
          ]
        }
      ]
    },
    {
      "cell_type": "markdown",
      "source": [
        "3. Buatlah ADT untuk Queue dan Deque menggunakan adapter design pattern!"
      ],
      "metadata": {
        "id": "o6nqZEk6q7z6"
      }
    },
    {
      "cell_type": "code",
      "source": [
        "class Queue:\n",
        "    def __init__(self):\n",
        "        self._data = []\n",
        "        self._size = 0\n",
        "  \n",
        "    def __len__(self):\n",
        "        return self._size\n",
        "\n",
        "    def isempty(self):\n",
        "        return len(self._data) == 0\n",
        "  \n",
        "    @property\n",
        "    def view(self):\n",
        "        return self._data\n",
        " \n",
        "    def first(self):\n",
        "        return self._data[0]\n",
        "  \n",
        "    def last(self):\n",
        "        return self._data[-1]\n",
        "  \n",
        "    def enqueue(self,item):\n",
        "        self._data.append(item)\n",
        "        self._size += 1\n",
        "\n",
        "    def dequeue(self):\n",
        "        if self.isempty():\n",
        "            raise Exception('Stack kosong')\n",
        "        else:\n",
        "            self._size -= 1\n",
        "            return self._data.pop(0)"
      ],
      "metadata": {
        "id": "9fSlND7_rAVX"
      },
      "execution_count": null,
      "outputs": []
    },
    {
      "cell_type": "code",
      "source": [
        "class Deque:\n",
        "  def __init__(self):\n",
        "    self._data = [None]*10\n",
        "    self._size = 0\n",
        "  \n",
        "  def __len__(self):\n",
        "    return self._size\n",
        "\n",
        "  def isempty(self):\n",
        "    return len(self._data) == 0\n",
        "  \n",
        "  @property\n",
        "  def view(self):\n",
        "    return self._data\n",
        " \n",
        "  def first(self):\n",
        "    return self._data[0]\n",
        "  \n",
        "  def last(self):\n",
        "    return self._data[-1]\n",
        "  \n",
        "  def add_first(self,item):\n",
        "    self._data.append(item)\n",
        "    self._data.insert(0,self._data.pop())\n",
        "    self._size += 1\n",
        "  \n",
        "  def add_last(self,item):\n",
        "    self._data.append(item)\n",
        "    self._size += 1\n",
        "\n",
        "  def delete_first(self):\n",
        "    if self.isempty():\n",
        "      raise Exception('Stack kosong')\n",
        "    else:\n",
        "      self._size -= 1\n",
        "      return self._data.pop(0)\n",
        "\n",
        "  def delete_last(self):\n",
        "    if self.isempty():\n",
        "      raise Exception('queue kosong')\n",
        "    else:\n",
        "      self._size -= 1\n",
        "      return self._data.pop()"
      ],
      "metadata": {
        "id": "za3ksBokrKFx"
      },
      "execution_count": null,
      "outputs": []
    },
    {
      "cell_type": "code",
      "source": [
        "D = Deque()\n",
        "\n",
        "D.add_first(1)\n",
        "D.add_first(2)\n",
        "D.add_first(3)\n",
        "D.view"
      ],
      "metadata": {
        "colab": {
          "base_uri": "https://localhost:8080/"
        },
        "id": "-alKH8wHrPXd",
        "outputId": "7e476c90-69a8-46e9-ea23-be1266d17891"
      },
      "execution_count": null,
      "outputs": [
        {
          "output_type": "execute_result",
          "data": {
            "text/plain": [
              "[3, 2, 1, None, None, None, None, None, None, None, None, None, None]"
            ]
          },
          "metadata": {},
          "execution_count": 5
        }
      ]
    },
    {
      "cell_type": "markdown",
      "source": [
        "4. Buatlah program untuk mengimplementasikan ADT tersebut menggunakan adapter design pattern!"
      ],
      "metadata": {
        "id": "d1QXvh0zreGu"
      }
    },
    {
      "cell_type": "code",
      "source": [
        "# Dog - Cycle\n",
        "# human - Truck\n",
        "# car - Car\n",
        " \n",
        "class MotorCycle:\n",
        " \n",
        "    \"\"\"Class for MotorCycle\"\"\"\n",
        " \n",
        "    def __init__(self):\n",
        "        self.name = \"MotorCycle\"\n",
        " \n",
        "    def TwoWheeler(self):\n",
        "        return \"TwoWheeler\"\n",
        " \n",
        " \n",
        "class Truck:\n",
        " \n",
        "    \"\"\"Class for Truck\"\"\"\n",
        " \n",
        "    def __init__(self):\n",
        "        self.name = \"Truck\"\n",
        " \n",
        "    def EightWheeler(self):\n",
        "        return \"EightWheeler\"\n",
        " \n",
        " \n",
        "class Car:\n",
        " \n",
        "    \"\"\"Class for Car\"\"\"\n",
        " \n",
        "    def __init__(self):\n",
        "        self.name = \"Car\"\n",
        " \n",
        "    def FourWheeler(self):\n",
        "        return \"FourWheeler\"\n",
        " \n",
        "class Adapter:\n",
        "    \"\"\"\n",
        "    Adapts an object by replacing methods.\n",
        "    Usage:\n",
        "    motorCycle = MotorCycle()\n",
        "    motorCycle = Adapter(motorCycle, wheels = motorCycle.TwoWheeler)\n",
        "    \"\"\"\n",
        " \n",
        "    def __init__(self, obj, **adapted_methods):\n",
        "        \"\"\"We set the adapted methods in the object's dict\"\"\"\n",
        "        self.obj = obj\n",
        "        self.__dict__.update(adapted_methods)\n",
        " \n",
        "    def __getattr__(self, attr):\n",
        "        \"\"\"All non-adapted calls are passed to the object\"\"\"\n",
        "        return getattr(self.obj, attr)\n",
        " \n",
        "    def original_dict(self):\n",
        "        \"\"\"Print original object dict\"\"\"\n",
        "        return self.obj.__dict__\n",
        " \n",
        " \n",
        "\"\"\" main method \"\"\"\n",
        "if __name__ == \"__main__\":\n",
        " \n",
        "    \"\"\"list to store objects\"\"\"\n",
        "    objects = []\n",
        " \n",
        "    motorCycle = MotorCycle()\n",
        "    objects.append(Adapter(motorCycle, wheels = motorCycle.TwoWheeler))\n",
        " \n",
        "    truck = Truck()\n",
        "    objects.append(Adapter(truck, wheels = truck.EightWheeler))\n",
        " \n",
        "    car = Car()\n",
        "    objects.append(Adapter(car, wheels = car.FourWheeler))\n",
        " \n",
        "    for obj in objects:\n",
        "       print(\"A {0} is a {1} vehicle\".format(obj.name, obj.wheels()))"
      ],
      "metadata": {
        "colab": {
          "base_uri": "https://localhost:8080/"
        },
        "id": "y22Q_q2WrgOC",
        "outputId": "38d56d2d-aa0c-4652-eb77-607330b43c40"
      },
      "execution_count": null,
      "outputs": [
        {
          "output_type": "stream",
          "name": "stdout",
          "text": [
            "A MotorCycle is a TwoWheeler vehicle\n",
            "A Truck is a EightWheeler vehicle\n",
            "A Car is a FourWheeler vehicle\n"
          ]
        }
      ]
    }
  ]
}